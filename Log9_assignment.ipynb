{
  "cells": [
    {
      "cell_type": "markdown",
      "metadata": {
        "id": "view-in-github",
        "colab_type": "text"
      },
      "source": [
        "<a href=\"https://colab.research.google.com/github/anup-anny/Rainfall-Prediction-Model/blob/main/Log9_assignment.ipynb\" target=\"_parent\"><img src=\"https://colab.research.google.com/assets/colab-badge.svg\" alt=\"Open In Colab\"/></a>"
      ]
    },
    {
      "cell_type": "code",
      "execution_count": 371,
      "metadata": {
        "id": "uOQKWli0EE8l"
      },
      "outputs": [],
      "source": [
        "import pandas as pd \n",
        "import numpy as np\n",
        "import math\n",
        "import matplotlib.pyplot as plt\n",
        "import seaborn as sns"
      ]
    },
    {
      "cell_type": "code",
      "execution_count": 372,
      "metadata": {
        "id": "ssfL7hjEIabA"
      },
      "outputs": [],
      "source": [
        "df = pd.read_excel('/content/drive/MyDrive/project case studies/Log 9/data/open-meteo-13.00N77.60E914m.xlsx')"
      ]
    },
    {
      "cell_type": "code",
      "execution_count": 373,
      "metadata": {
        "colab": {
          "base_uri": "https://localhost:8080/",
          "height": 461
        },
        "id": "1CtjiX8fI5J-",
        "outputId": "e24914bf-93af-4a45-d23f-319bd09d14df"
      },
      "outputs": [
        {
          "output_type": "execute_result",
          "data": {
            "text/plain": [
              "        time  weathercode (wmo code)  temperature_2m_max (°C)  \\\n",
              "0 2019-01-14                     2.0                     28.1   \n",
              "1 2019-01-15                     1.0                     27.8   \n",
              "2 2019-01-16                     1.0                     27.7   \n",
              "3 2019-01-17                     0.0                     27.8   \n",
              "4 2019-01-18                     3.0                     27.9   \n",
              "\n",
              "   temperature_2m_min (°C)  temperature_2m_mean (°C)  \\\n",
              "0                     13.6                 20.354166   \n",
              "1                     12.8                 20.033333   \n",
              "2                     12.9                 20.049997   \n",
              "3                     13.3                 20.279165   \n",
              "4                     15.3                 20.766668   \n",
              "\n",
              "   apparent_temperature_max (°C)  apparent_temperature_min (°C)  \\\n",
              "0                           14.4                           27.3   \n",
              "1                           12.6                           25.0   \n",
              "2                           13.3                           26.1   \n",
              "3                           14.7                           27.2   \n",
              "4                           16.1                           26.8   \n",
              "\n",
              "   apparent_temperature_mean (°C)   sunrise (iso8601)    sunset (iso8601)  \\\n",
              "0                       19.570837 2019-01-14 06:14:18 2019-01-14 17:42:49   \n",
              "1                       17.800001 2019-01-15 06:14:30 2019-01-15 17:43:23   \n",
              "2                       18.820833 2019-01-16 06:14:39 2019-01-16 17:43:55   \n",
              "3                       20.079168 2019-01-17 06:14:46 2019-01-17 17:44:27   \n",
              "4                       20.612501 2019-01-18 06:14:53 2019-01-18 17:44:58   \n",
              "\n",
              "   shortwave_radiation_sum (MJ/m²)  precipitation_sum (mm)  rain_sum (mm)  \\\n",
              "0                            22.26                     0.0            0.0   \n",
              "1                            22.58                     0.0            0.0   \n",
              "2                            22.89                     0.0            0.0   \n",
              "3                            22.36                     0.0            0.0   \n",
              "4                            22.32                     0.0            0.0   \n",
              "\n",
              "   snowfall_sum (cm)  precipitation_hours (h)  windspeed_10m_max (km/h)  \\\n",
              "0                0.0                      0.0                      13.7   \n",
              "1                0.0                      0.0                      14.7   \n",
              "2                0.0                      0.0                      13.1   \n",
              "3                0.0                      0.0                      13.2   \n",
              "4                0.0                      0.0                      13.8   \n",
              "\n",
              "   windgusts_10m_max (km/h)  winddirection_10m_dominant (°)  \\\n",
              "0                      29.5                       73.240500   \n",
              "1                      33.8                       73.160400   \n",
              "2                      32.8                       89.417100   \n",
              "3                      32.0                       79.524414   \n",
              "4                      33.5                       81.812860   \n",
              "\n",
              "   et0_fao_evapotranspiration (mm)  \n",
              "0                         4.840001  \n",
              "1                         5.350000  \n",
              "2                         5.040000  \n",
              "3                         4.760000  \n",
              "4                         4.910000  "
            ],
            "text/html": [
              "\n",
              "  <div id=\"df-fd77ae59-dc51-4e6d-86fa-d687c613e916\">\n",
              "    <div class=\"colab-df-container\">\n",
              "      <div>\n",
              "<style scoped>\n",
              "    .dataframe tbody tr th:only-of-type {\n",
              "        vertical-align: middle;\n",
              "    }\n",
              "\n",
              "    .dataframe tbody tr th {\n",
              "        vertical-align: top;\n",
              "    }\n",
              "\n",
              "    .dataframe thead th {\n",
              "        text-align: right;\n",
              "    }\n",
              "</style>\n",
              "<table border=\"1\" class=\"dataframe\">\n",
              "  <thead>\n",
              "    <tr style=\"text-align: right;\">\n",
              "      <th></th>\n",
              "      <th>time</th>\n",
              "      <th>weathercode (wmo code)</th>\n",
              "      <th>temperature_2m_max (°C)</th>\n",
              "      <th>temperature_2m_min (°C)</th>\n",
              "      <th>temperature_2m_mean (°C)</th>\n",
              "      <th>apparent_temperature_max (°C)</th>\n",
              "      <th>apparent_temperature_min (°C)</th>\n",
              "      <th>apparent_temperature_mean (°C)</th>\n",
              "      <th>sunrise (iso8601)</th>\n",
              "      <th>sunset (iso8601)</th>\n",
              "      <th>shortwave_radiation_sum (MJ/m²)</th>\n",
              "      <th>precipitation_sum (mm)</th>\n",
              "      <th>rain_sum (mm)</th>\n",
              "      <th>snowfall_sum (cm)</th>\n",
              "      <th>precipitation_hours (h)</th>\n",
              "      <th>windspeed_10m_max (km/h)</th>\n",
              "      <th>windgusts_10m_max (km/h)</th>\n",
              "      <th>winddirection_10m_dominant (°)</th>\n",
              "      <th>et0_fao_evapotranspiration (mm)</th>\n",
              "    </tr>\n",
              "  </thead>\n",
              "  <tbody>\n",
              "    <tr>\n",
              "      <th>0</th>\n",
              "      <td>2019-01-14</td>\n",
              "      <td>2.0</td>\n",
              "      <td>28.1</td>\n",
              "      <td>13.6</td>\n",
              "      <td>20.354166</td>\n",
              "      <td>14.4</td>\n",
              "      <td>27.3</td>\n",
              "      <td>19.570837</td>\n",
              "      <td>2019-01-14 06:14:18</td>\n",
              "      <td>2019-01-14 17:42:49</td>\n",
              "      <td>22.26</td>\n",
              "      <td>0.0</td>\n",
              "      <td>0.0</td>\n",
              "      <td>0.0</td>\n",
              "      <td>0.0</td>\n",
              "      <td>13.7</td>\n",
              "      <td>29.5</td>\n",
              "      <td>73.240500</td>\n",
              "      <td>4.840001</td>\n",
              "    </tr>\n",
              "    <tr>\n",
              "      <th>1</th>\n",
              "      <td>2019-01-15</td>\n",
              "      <td>1.0</td>\n",
              "      <td>27.8</td>\n",
              "      <td>12.8</td>\n",
              "      <td>20.033333</td>\n",
              "      <td>12.6</td>\n",
              "      <td>25.0</td>\n",
              "      <td>17.800001</td>\n",
              "      <td>2019-01-15 06:14:30</td>\n",
              "      <td>2019-01-15 17:43:23</td>\n",
              "      <td>22.58</td>\n",
              "      <td>0.0</td>\n",
              "      <td>0.0</td>\n",
              "      <td>0.0</td>\n",
              "      <td>0.0</td>\n",
              "      <td>14.7</td>\n",
              "      <td>33.8</td>\n",
              "      <td>73.160400</td>\n",
              "      <td>5.350000</td>\n",
              "    </tr>\n",
              "    <tr>\n",
              "      <th>2</th>\n",
              "      <td>2019-01-16</td>\n",
              "      <td>1.0</td>\n",
              "      <td>27.7</td>\n",
              "      <td>12.9</td>\n",
              "      <td>20.049997</td>\n",
              "      <td>13.3</td>\n",
              "      <td>26.1</td>\n",
              "      <td>18.820833</td>\n",
              "      <td>2019-01-16 06:14:39</td>\n",
              "      <td>2019-01-16 17:43:55</td>\n",
              "      <td>22.89</td>\n",
              "      <td>0.0</td>\n",
              "      <td>0.0</td>\n",
              "      <td>0.0</td>\n",
              "      <td>0.0</td>\n",
              "      <td>13.1</td>\n",
              "      <td>32.8</td>\n",
              "      <td>89.417100</td>\n",
              "      <td>5.040000</td>\n",
              "    </tr>\n",
              "    <tr>\n",
              "      <th>3</th>\n",
              "      <td>2019-01-17</td>\n",
              "      <td>0.0</td>\n",
              "      <td>27.8</td>\n",
              "      <td>13.3</td>\n",
              "      <td>20.279165</td>\n",
              "      <td>14.7</td>\n",
              "      <td>27.2</td>\n",
              "      <td>20.079168</td>\n",
              "      <td>2019-01-17 06:14:46</td>\n",
              "      <td>2019-01-17 17:44:27</td>\n",
              "      <td>22.36</td>\n",
              "      <td>0.0</td>\n",
              "      <td>0.0</td>\n",
              "      <td>0.0</td>\n",
              "      <td>0.0</td>\n",
              "      <td>13.2</td>\n",
              "      <td>32.0</td>\n",
              "      <td>79.524414</td>\n",
              "      <td>4.760000</td>\n",
              "    </tr>\n",
              "    <tr>\n",
              "      <th>4</th>\n",
              "      <td>2019-01-18</td>\n",
              "      <td>3.0</td>\n",
              "      <td>27.9</td>\n",
              "      <td>15.3</td>\n",
              "      <td>20.766668</td>\n",
              "      <td>16.1</td>\n",
              "      <td>26.8</td>\n",
              "      <td>20.612501</td>\n",
              "      <td>2019-01-18 06:14:53</td>\n",
              "      <td>2019-01-18 17:44:58</td>\n",
              "      <td>22.32</td>\n",
              "      <td>0.0</td>\n",
              "      <td>0.0</td>\n",
              "      <td>0.0</td>\n",
              "      <td>0.0</td>\n",
              "      <td>13.8</td>\n",
              "      <td>33.5</td>\n",
              "      <td>81.812860</td>\n",
              "      <td>4.910000</td>\n",
              "    </tr>\n",
              "  </tbody>\n",
              "</table>\n",
              "</div>\n",
              "      <button class=\"colab-df-convert\" onclick=\"convertToInteractive('df-fd77ae59-dc51-4e6d-86fa-d687c613e916')\"\n",
              "              title=\"Convert this dataframe to an interactive table.\"\n",
              "              style=\"display:none;\">\n",
              "        \n",
              "  <svg xmlns=\"http://www.w3.org/2000/svg\" height=\"24px\"viewBox=\"0 0 24 24\"\n",
              "       width=\"24px\">\n",
              "    <path d=\"M0 0h24v24H0V0z\" fill=\"none\"/>\n",
              "    <path d=\"M18.56 5.44l.94 2.06.94-2.06 2.06-.94-2.06-.94-.94-2.06-.94 2.06-2.06.94zm-11 1L8.5 8.5l.94-2.06 2.06-.94-2.06-.94L8.5 2.5l-.94 2.06-2.06.94zm10 10l.94 2.06.94-2.06 2.06-.94-2.06-.94-.94-2.06-.94 2.06-2.06.94z\"/><path d=\"M17.41 7.96l-1.37-1.37c-.4-.4-.92-.59-1.43-.59-.52 0-1.04.2-1.43.59L10.3 9.45l-7.72 7.72c-.78.78-.78 2.05 0 2.83L4 21.41c.39.39.9.59 1.41.59.51 0 1.02-.2 1.41-.59l7.78-7.78 2.81-2.81c.8-.78.8-2.07 0-2.86zM5.41 20L4 18.59l7.72-7.72 1.47 1.35L5.41 20z\"/>\n",
              "  </svg>\n",
              "      </button>\n",
              "      \n",
              "  <style>\n",
              "    .colab-df-container {\n",
              "      display:flex;\n",
              "      flex-wrap:wrap;\n",
              "      gap: 12px;\n",
              "    }\n",
              "\n",
              "    .colab-df-convert {\n",
              "      background-color: #E8F0FE;\n",
              "      border: none;\n",
              "      border-radius: 50%;\n",
              "      cursor: pointer;\n",
              "      display: none;\n",
              "      fill: #1967D2;\n",
              "      height: 32px;\n",
              "      padding: 0 0 0 0;\n",
              "      width: 32px;\n",
              "    }\n",
              "\n",
              "    .colab-df-convert:hover {\n",
              "      background-color: #E2EBFA;\n",
              "      box-shadow: 0px 1px 2px rgba(60, 64, 67, 0.3), 0px 1px 3px 1px rgba(60, 64, 67, 0.15);\n",
              "      fill: #174EA6;\n",
              "    }\n",
              "\n",
              "    [theme=dark] .colab-df-convert {\n",
              "      background-color: #3B4455;\n",
              "      fill: #D2E3FC;\n",
              "    }\n",
              "\n",
              "    [theme=dark] .colab-df-convert:hover {\n",
              "      background-color: #434B5C;\n",
              "      box-shadow: 0px 1px 3px 1px rgba(0, 0, 0, 0.15);\n",
              "      filter: drop-shadow(0px 1px 2px rgba(0, 0, 0, 0.3));\n",
              "      fill: #FFFFFF;\n",
              "    }\n",
              "  </style>\n",
              "\n",
              "      <script>\n",
              "        const buttonEl =\n",
              "          document.querySelector('#df-fd77ae59-dc51-4e6d-86fa-d687c613e916 button.colab-df-convert');\n",
              "        buttonEl.style.display =\n",
              "          google.colab.kernel.accessAllowed ? 'block' : 'none';\n",
              "\n",
              "        async function convertToInteractive(key) {\n",
              "          const element = document.querySelector('#df-fd77ae59-dc51-4e6d-86fa-d687c613e916');\n",
              "          const dataTable =\n",
              "            await google.colab.kernel.invokeFunction('convertToInteractive',\n",
              "                                                     [key], {});\n",
              "          if (!dataTable) return;\n",
              "\n",
              "          const docLinkHtml = 'Like what you see? Visit the ' +\n",
              "            '<a target=\"_blank\" href=https://colab.research.google.com/notebooks/data_table.ipynb>data table notebook</a>'\n",
              "            + ' to learn more about interactive tables.';\n",
              "          element.innerHTML = '';\n",
              "          dataTable['output_type'] = 'display_data';\n",
              "          await google.colab.output.renderOutput(dataTable, element);\n",
              "          const docLink = document.createElement('div');\n",
              "          docLink.innerHTML = docLinkHtml;\n",
              "          element.appendChild(docLink);\n",
              "        }\n",
              "      </script>\n",
              "    </div>\n",
              "  </div>\n",
              "  "
            ]
          },
          "metadata": {},
          "execution_count": 373
        }
      ],
      "source": [
        "df.head()"
      ]
    },
    {
      "cell_type": "code",
      "execution_count": 374,
      "metadata": {
        "colab": {
          "base_uri": "https://localhost:8080/"
        },
        "id": "DbYGepppKKTR",
        "outputId": "8c700a96-d105-4252-d830-457458d7438e"
      },
      "outputs": [
        {
          "output_type": "execute_result",
          "data": {
            "text/plain": [
              "(1097, 19)"
            ]
          },
          "metadata": {},
          "execution_count": 374
        }
      ],
      "source": [
        "df.shape"
      ]
    },
    {
      "cell_type": "code",
      "execution_count": 375,
      "metadata": {
        "colab": {
          "base_uri": "https://localhost:8080/"
        },
        "id": "kvccVnBoJD1k",
        "outputId": "0f5d373f-6510-460f-d29d-ff488e0d7031"
      },
      "outputs": [
        {
          "output_type": "execute_result",
          "data": {
            "text/plain": [
              "time                               0\n",
              "weathercode (wmo code)             0\n",
              "temperature_2m_max (°C)            0\n",
              "temperature_2m_min (°C)            0\n",
              "temperature_2m_mean (°C)           0\n",
              "apparent_temperature_max (°C)      0\n",
              "apparent_temperature_min (°C)      0\n",
              "apparent_temperature_mean (°C)     0\n",
              "sunrise (iso8601)                  0\n",
              "sunset (iso8601)                   0\n",
              "shortwave_radiation_sum (MJ/m²)    0\n",
              "precipitation_sum (mm)             0\n",
              "rain_sum (mm)                      0\n",
              "snowfall_sum (cm)                  0\n",
              "precipitation_hours (h)            0\n",
              "windspeed_10m_max (km/h)           0\n",
              "windgusts_10m_max (km/h)           0\n",
              "winddirection_10m_dominant (°)     0\n",
              "et0_fao_evapotranspiration (mm)    0\n",
              "dtype: int64"
            ]
          },
          "metadata": {},
          "execution_count": 375
        }
      ],
      "source": [
        "df.isna().sum()"
      ]
    },
    {
      "cell_type": "code",
      "execution_count": 376,
      "metadata": {
        "colab": {
          "base_uri": "https://localhost:8080/",
          "height": 1000
        },
        "id": "lXekJrBdJ8v0",
        "outputId": "793cc592-2e09-4c5e-f835-4c2261f4670f"
      },
      "outputs": [
        {
          "output_type": "display_data",
          "data": {
            "text/plain": [
              "<Figure size 1440x1080 with 2 Axes>"
            ],
            "image/png": "[encoded data removed]"
          },
          "metadata": {
            "needs_background": "light"
          }
        }
      ],
      "source": [
        "plt.subplots(figsize=(20,15))\n",
        "correlation_map =  sns.heatmap(df.corr(), cmap=\"YlGnBu\", annot=True)"
      ]
    },
    {
      "cell_type": "code",
      "execution_count": 377,
      "metadata": {
        "id": "TrEd_TrihoHh"
      },
      "outputs": [],
      "source": [
        "target_value = df['rain_sum (mm)']"
      ]
    },
    {
      "cell_type": "code",
      "execution_count": 378,
      "metadata": {
        "id": "FkGbclmIjVKw"
      },
      "outputs": [],
      "source": [
        "corr_plot = df.corr()"
      ]
    },
    {
      "cell_type": "code",
      "execution_count": 379,
      "metadata": {
        "colab": {
          "base_uri": "https://localhost:8080/"
        },
        "id": "Q5-w9qFwje7d",
        "outputId": "83f259c6-b1c3-4141-ba24-4c1bb3f00e95"
      },
      "outputs": [
        {
          "output_type": "execute_result",
          "data": {
            "text/plain": [
              "weathercode (wmo code)             0.549740\n",
              "temperature_2m_max (°C)            0.330313\n",
              "temperature_2m_min (°C)            0.221642\n",
              "apparent_temperature_max (°C)      0.220716\n",
              "shortwave_radiation_sum (MJ/m²)    0.476234\n",
              "precipitation_sum (mm)             1.000000\n",
              "rain_sum (mm)                      1.000000\n",
              "precipitation_hours (h)            0.758433\n",
              "winddirection_10m_dominant (°)     0.262956\n",
              "et0_fao_evapotranspiration (mm)    0.469539\n",
              "Name: rain_sum (mm), dtype: float64"
            ]
          },
          "metadata": {},
          "execution_count": 379
        }
      ],
      "source": [
        "cor_target = abs(corr_plot[\"rain_sum (mm)\"])\n",
        "\n",
        "relevant_train_features = cor_target[cor_target>0.20]\n",
        "relevant_train_features"
      ]
    },
    {
      "cell_type": "code",
      "execution_count": 380,
      "metadata": {
        "id": "qtkPBAPQkfK3"
      },
      "outputs": [],
      "source": [
        "X = df[['weathercode (wmo code)','temperature_2m_max (°C)','temperature_2m_min (°C)','apparent_temperature_max (°C)',\n",
        "          'shortwave_radiation_sum (MJ/m²)','precipitation_hours (h)',\n",
        "          'winddirection_10m_dominant (°)','et0_fao_evapotranspiration (mm)','et0_fao_evapotranspiration (mm)']]\n",
        "\n",
        "y = df['rain_sum (mm)']"
      ]
    },
    {
      "cell_type": "code",
      "execution_count": 381,
      "metadata": {
        "id": "aLQqvopwmrwe"
      },
      "outputs": [],
      "source": [
        "from sklearn.linear_model import LinearRegression\n",
        "from sklearn.tree import DecisionTreeRegressor\n",
        "from sklearn.model_selection import train_test_split\n",
        "from sklearn import metrics\n",
        "from sklearn.metrics import r2_score\n",
        "from sklearn.metrics import mean_squared_error\n",
        "from sklearn.metrics import mean_absolute_error\n",
        "import warnings\n",
        "warnings.filterwarnings('ignore')"
      ]
    },
    {
      "cell_type": "code",
      "execution_count": 382,
      "metadata": {
        "colab": {
          "base_uri": "https://localhost:8080/"
        },
        "id": "PMYOrt_wqw86",
        "outputId": "cc0fc750-4ab3-4a84-cafa-e9e095a7723e"
      },
      "outputs": [
        {
          "output_type": "execute_result",
          "data": {
            "text/plain": [
              "0.000000     497\n",
              "0.100000      34\n",
              "0.200000      27\n",
              "0.400000      19\n",
              "0.500000      18\n",
              "            ... \n",
              "11.000000      1\n",
              "10.200000      1\n",
              "1.300000       1\n",
              "5.700000       1\n",
              "4.400001       1\n",
              "Name: rain_sum (mm), Length: 277, dtype: int64"
            ]
          },
          "metadata": {},
          "execution_count": 382
        }
      ],
      "source": [
        "y.value_counts()"
      ]
    },
    {
      "cell_type": "code",
      "execution_count": 383,
      "metadata": {
        "colab": {
          "base_uri": "https://localhost:8080/",
          "height": 298
        },
        "id": "WbaVAevGoaVy",
        "outputId": "d51a4835-5c3b-4990-e0ff-1a43ccb366e9"
      },
      "outputs": [
        {
          "output_type": "execute_result",
          "data": {
            "text/plain": [
              "<matplotlib.axes._subplots.AxesSubplot at 0x7f6898d729a0>"
            ]
          },
          "metadata": {},
          "execution_count": 383
        },
        {
          "output_type": "display_data",
          "data": {
            "text/plain": [
              "<Figure size 432x288 with 1 Axes>"
            ],
            "image/png": "[encoded data removed]"
          },
          "metadata": {
            "needs_background": "light"
          }
        }
      ],
      "source": [
        "sns.distplot(y)"
      ]
    },
    {
      "cell_type": "markdown",
      "metadata": {
        "id": "-xjODcxU3UMF"
      },
      "source": [
        "### Scaling the data"
      ]
    },
    {
      "cell_type": "code",
      "execution_count": 384,
      "metadata": {
        "id": "ubIZiT-a3Ez3"
      },
      "outputs": [],
      "source": [
        "X = np.sqrt(X)"
      ]
    },
    {
      "cell_type": "code",
      "execution_count": 385,
      "metadata": {
        "id": "a5W5yy2i2VcK"
      },
      "outputs": [],
      "source": [
        "y = np.sqrt(y)"
      ]
    },
    {
      "cell_type": "code",
      "execution_count": 386,
      "metadata": {
        "colab": {
          "base_uri": "https://localhost:8080/",
          "height": 298
        },
        "id": "J3k12F6Q2biz",
        "outputId": "b0938e29-ce87-4851-c6e6-91246a155ebd"
      },
      "outputs": [
        {
          "output_type": "execute_result",
          "data": {
            "text/plain": [
              "<matplotlib.axes._subplots.AxesSubplot at 0x7f68990f6e50>"
            ]
          },
          "metadata": {},
          "execution_count": 386
        },
        {
          "output_type": "display_data",
          "data": {
            "text/plain": [
              "<Figure size 432x288 with 1 Axes>"
            ],
            "image/png": "[encoded data removed]"
          },
          "metadata": {
            "needs_background": "light"
          }
        }
      ],
      "source": [
        "sns.distplot(y)"
      ]
    },
    {
      "cell_type": "markdown",
      "metadata": {
        "id": "8E74i4L7xdWz"
      },
      "source": [
        "# **Model Building**"
      ]
    },
    {
      "cell_type": "markdown",
      "metadata": {
        "id": "dLZD2VoPxi8G"
      },
      "source": [
        "## **Linear regg**"
      ]
    },
    {
      "cell_type": "code",
      "execution_count": 387,
      "metadata": {
        "colab": {
          "base_uri": "https://localhost:8080/"
        },
        "id": "LztJi8ooniVo",
        "outputId": "949319cb-ac6a-4e4f-9191-08ffa2061fb6"
      },
      "outputs": [
        {
          "output_type": "stream",
          "name": "stdout",
          "text": [
            "(822, 9)\n"
          ]
        },
        {
          "output_type": "execute_result",
          "data": {
            "text/plain": [
              "(275, 9)"
            ]
          },
          "metadata": {},
          "execution_count": 387
        }
      ],
      "source": [
        "# Train test spliting\n",
        "\n",
        "X_train,X_test,y_train,y_test = train_test_split(X,y ,test_size = 0.25, random_state = 0)\n",
        "print(X_train.shape)\n",
        "X_test.shape"
      ]
    },
    {
      "cell_type": "code",
      "execution_count": 388,
      "metadata": {
        "colab": {
          "base_uri": "https://localhost:8080/"
        },
        "id": "jTZxKOF_n3Bg",
        "outputId": "baacc6fc-aa93-4f9e-bc30-33078c47418f"
      },
      "outputs": [
        {
          "output_type": "execute_result",
          "data": {
            "text/plain": [
              "0.8413694541492438"
            ]
          },
          "metadata": {},
          "execution_count": 388
        }
      ],
      "source": [
        "# Base model\n",
        "regg = LinearRegression().fit(X_train,y_train)\n",
        "\n",
        "# Checking score\n",
        "regg.score(X_train,y_train)"
      ]
    },
    {
      "cell_type": "code",
      "execution_count": 389,
      "metadata": {
        "colab": {
          "base_uri": "https://localhost:8080/"
        },
        "id": "NxjAeda7uTQG",
        "outputId": "93f60a29-49f7-4245-a33a-672d11adb8b7"
      },
      "outputs": [
        {
          "output_type": "execute_result",
          "data": {
            "text/plain": [
              "array([-0.0604004 ,  1.3275402 , -0.28438913,  0.02127347,  0.35758722,\n",
              "        0.9098167 ,  0.0093154 , -0.78748817, -0.78748817])"
            ]
          },
          "metadata": {},
          "execution_count": 389
        }
      ],
      "source": [
        "#Checking Coefficent\n",
        "regg.coef_"
      ]
    },
    {
      "cell_type": "code",
      "execution_count": 390,
      "metadata": {
        "id": "BBFp6GKpuW2d"
      },
      "outputs": [],
      "source": [
        "# Predicted Train & Test values\n",
        " \n",
        "y_pred_train = regg.predict(X_train)\n",
        "y_pred_test = regg.predict(X_test)"
      ]
    },
    {
      "cell_type": "code",
      "execution_count": 391,
      "metadata": {
        "colab": {
          "base_uri": "https://localhost:8080/"
        },
        "id": "h8cCJQFNua8g",
        "outputId": "f65665ec-92ff-43da-9398-e8c9f459df22"
      },
      "outputs": [
        {
          "output_type": "stream",
          "name": "stdout",
          "text": [
            "MSE : 0.27220516334401645\n",
            "RMSE : 0.5217328467175671\n",
            "MAE : 0.3434501812273664\n",
            "R2 : 0.8413694541492438\n",
            "Adjusted R2 : 0.8359820016486521\n"
          ]
        }
      ],
      "source": [
        "# Calculating Performance Metrics for train data\n",
        "\n",
        "# 1. MSE\n",
        "MSE = mean_squared_error((y_train), (y_pred_train))\n",
        "print('MSE :',MSE)\n",
        "\n",
        "# 2. RSME\n",
        "RMSE = np.sqrt(MSE)\n",
        "print(\"RMSE :\",RMSE)\n",
        "\n",
        "#3. MAE\n",
        "MAE = mean_absolute_error((y_train), (y_pred_train))\n",
        "print('MAE :', MAE)\n",
        "\n",
        "# R2\n",
        "R2 = r2_score((y_train), (y_pred_train))\n",
        "print('R2 :', R2)\n",
        "\n",
        "# Adjusted R2\n",
        "Adj_R2 = (1-(1-r2_score(y_train, y_pred_train))*((X_test.shape[0]-1)/(X_test.shape[0]-X_test.shape[1]-1)))\n",
        "print( 'Adjusted R2 :', Adj_R2)"
      ]
    },
    {
      "cell_type": "code",
      "execution_count": 392,
      "metadata": {
        "id": "fSfw7ZuS0Xtu"
      },
      "outputs": [],
      "source": [
        "# Making a dataset for comparing performance metrics later\n",
        "\n",
        "dict1={'Model':'Linear regression ',\n",
        "       'MAE':round((MAE),3),\n",
        "       'MSE':round((MSE),3),\n",
        "       'RMSE':round((RMSE),3),\n",
        "       'R2':round((R2),3),\n",
        "       'Adj_R2':round((Adj_R2 ),2)\n",
        "       }\n",
        "training_df=pd.DataFrame(dict1,index=[1])"
      ]
    },
    {
      "cell_type": "code",
      "execution_count": 393,
      "metadata": {
        "colab": {
          "base_uri": "https://localhost:8080/"
        },
        "id": "n--i_8DawogD",
        "outputId": "f5e6938e-f175-4edf-cb9a-1866031c3b7f"
      },
      "outputs": [
        {
          "output_type": "stream",
          "name": "stdout",
          "text": [
            "MSE : 0.46398723761083766\n",
            "RMSE : 0.6811660866564319\n",
            "MAE : 0.39301219349864125\n",
            "R2 : 0.8017962802052562\n",
            "Adjusted R2 : 0.7950648331178876\n"
          ]
        }
      ],
      "source": [
        "# Calculating Performance Metrics for test data\n",
        "\n",
        "# 1. MSE\n",
        "MSE = mean_squared_error((y_test), (y_pred_test))\n",
        "print('MSE :',MSE)\n",
        "\n",
        "# 2. RSME\n",
        "RMSE = np.sqrt(MSE)\n",
        "print(\"RMSE :\",RMSE)\n",
        "\n",
        "#3. MAE\n",
        "MAE = mean_absolute_error((y_test), (y_pred_test))\n",
        "print('MAE :', MAE)\n",
        "\n",
        "# R2\n",
        "R2 = r2_score((y_test), (y_pred_test))\n",
        "print('R2 :', R2)\n",
        "\n",
        "# Adjusted R2\n",
        "Adj_R2 = (1-(1-r2_score(y_test, y_pred_test))*((X_test.shape[0]-1)/(X_test.shape[0]-X_test.shape[1]-1)))\n",
        "print( 'Adjusted R2 :', Adj_R2)"
      ]
    },
    {
      "cell_type": "code",
      "execution_count": 394,
      "metadata": {
        "id": "sClPrh4Q0iM3"
      },
      "outputs": [],
      "source": [
        "# Making a dataset for comparing performance metrics later\n",
        "\n",
        "dict2={'Model':'Linear regression ',\n",
        "       'MAE':round((MAE),3),\n",
        "       'MSE':round((MSE),3),\n",
        "       'RMSE':round((RMSE),3),\n",
        "       'R2':round((R2),3),\n",
        "       'Adj_R2':round((Adj_R2 ),2)\n",
        "       }\n",
        "test_df=pd.DataFrame(dict2,index=[1])"
      ]
    },
    {
      "cell_type": "markdown",
      "metadata": {
        "id": "SEAGG_l5xt9q"
      },
      "source": [
        "## **Tree based model**"
      ]
    },
    {
      "cell_type": "code",
      "execution_count": 395,
      "metadata": {
        "id": "bf28LaTFxYNq"
      },
      "outputs": [],
      "source": [
        "#Initilazing the model\n",
        "dt_regressor = DecisionTreeRegressor(criterion='mse', max_depth=8, max_features=9, max_leaf_nodes=100)"
      ]
    },
    {
      "cell_type": "code",
      "execution_count": 396,
      "metadata": {
        "colab": {
          "base_uri": "https://localhost:8080/"
        },
        "id": "AajVSYxUx4Bf",
        "outputId": "0bb8d26a-9e1a-4be2-9b18-2fe6418296f6"
      },
      "outputs": [
        {
          "output_type": "execute_result",
          "data": {
            "text/plain": [
              "DecisionTreeRegressor(criterion='mse', max_depth=8, max_features=9,\n",
              "                      max_leaf_nodes=100)"
            ]
          },
          "metadata": {},
          "execution_count": 396
        }
      ],
      "source": [
        "dt_regressor.fit(X_train, y_train)"
      ]
    },
    {
      "cell_type": "code",
      "execution_count": 397,
      "metadata": {
        "id": "S2Mx9-7Xx8PV"
      },
      "outputs": [],
      "source": [
        "#Train Test values\n",
        "y_pred_train_d = dt_regressor.predict(X_train)\n",
        "y_pred_test_d = dt_regressor.predict(X_test)"
      ]
    },
    {
      "cell_type": "code",
      "execution_count": 398,
      "metadata": {
        "colab": {
          "base_uri": "https://localhost:8080/"
        },
        "id": "gtj-ESw4x-if",
        "outputId": "9b19f8cc-44fd-4a2f-c71b-52be369b4d22"
      },
      "outputs": [
        {
          "output_type": "stream",
          "name": "stdout",
          "text": [
            "MSE : 0.017245389032289744\n",
            "RMSE : 0.13132170053837158\n",
            "MAE : 0.06250608199858683\n",
            "R2 : 0.9899500603074769\n",
            "Adjusted R2 : 0.9896087416009384\n"
          ]
        }
      ],
      "source": [
        "# Calculating Performance Metrics for train data\n",
        "\n",
        "# 1. MSE\n",
        "MSE = mean_squared_error((y_train), (y_pred_train_d))\n",
        "print('MSE :',MSE)\n",
        "\n",
        "# 2. RSME\n",
        "RMSE = np.sqrt(MSE)\n",
        "print(\"RMSE :\",RMSE)\n",
        "\n",
        "#3. MAE\n",
        "MAE = mean_absolute_error((y_train), (y_pred_train_d))\n",
        "print('MAE :', MAE)\n",
        "\n",
        "# R2\n",
        "R2 = r2_score((y_train), (y_pred_train_d))\n",
        "print('R2 :', R2)\n",
        "\n",
        "# Adjusted R2\n",
        "Adj_R2 = (1-(1-r2_score(y_train, y_pred_train_d))*((X_test.shape[0]-1)/(X_test.shape[0]-X_test.shape[1]-1)))\n",
        "print( 'Adjusted R2 :', Adj_R2)"
      ]
    },
    {
      "cell_type": "code",
      "execution_count": 399,
      "metadata": {
        "id": "XvOzx3JR0qhV"
      },
      "outputs": [],
      "source": [
        "# Making a dataset for comparing performance metrics later\n",
        "\n",
        "dict1={'Model':'Decision tree regressor',\n",
        "       'MAE':round((MAE),3),\n",
        "       'MSE':round((MSE),3),\n",
        "       'RMSE':round((RMSE),3),\n",
        "       'R2':round((R2),3),\n",
        "       'Adj_R2':round((Adj_R2 ),2)\n",
        "       }\n",
        "test_df=test_df.append(dict1,ignore_index=True)"
      ]
    },
    {
      "cell_type": "code",
      "execution_count": 400,
      "metadata": {
        "colab": {
          "base_uri": "https://localhost:8080/"
        },
        "id": "hGGTohGkyDA7",
        "outputId": "9c92ec0f-8d55-443f-e9f5-a9f1a5b3395f"
      },
      "outputs": [
        {
          "output_type": "stream",
          "name": "stdout",
          "text": [
            "MSE : 0.14045366242702392\n",
            "RMSE : 0.3747714802743452\n",
            "MAE : 0.17267053880140631\n",
            "R2 : 0.9400017153592908\n",
            "Adjusted R2 : 0.9379640377677195\n"
          ]
        }
      ],
      "source": [
        "# Calculating Performance Metrics for Train data\n",
        "\n",
        "# 1. MSE\n",
        "MSE = mean_squared_error((y_test), (y_pred_test_d))\n",
        "print('MSE :',MSE)\n",
        "\n",
        "# 2. RSME\n",
        "RMSE = np.sqrt(MSE)\n",
        "print(\"RMSE :\",RMSE)\n",
        "\n",
        "#3. MAE\n",
        "MAE = mean_absolute_error((y_test), (y_pred_test_d))\n",
        "print('MAE :', MAE)\n",
        "\n",
        "# R2\n",
        "R2 = r2_score((y_test), (y_pred_test_d))\n",
        "print('R2 :', R2)\n",
        "\n",
        "# Adjusted R2\n",
        "Adj_R2 = (1-(1-r2_score(y_test, y_pred_test_d))*((X_test.shape[0]-1)/(X_test.shape[0]-X_test.shape[1]-1)))\n",
        "print( 'Adjusted R2 :', Adj_R2)"
      ]
    },
    {
      "cell_type": "code",
      "execution_count": 401,
      "metadata": {
        "id": "WXsWyEXSyGfs"
      },
      "outputs": [],
      "source": [
        "# Making a dataset for comparing performance metrics later\n",
        "dict2={'Model':'Decision tree regressor',\n",
        "       'MAE':round((MAE),3),\n",
        "       'MSE':round((MSE),3),\n",
        "       'RMSE':round((RMSE),3),\n",
        "       'R2':round((R2),3),\n",
        "       'Adj_R2':round((Adj_R2 ),2)\n",
        "       }\n",
        "test_df=test_df.append(dict2,ignore_index=True)"
      ]
    },
    {
      "cell_type": "code",
      "execution_count": 402,
      "metadata": {
        "colab": {
          "base_uri": "https://localhost:8080/",
          "height": 175
        },
        "id": "srLMLLSw1FV6",
        "outputId": "110d8de5-c92f-4fcf-c5c8-5724ad7c0327"
      },
      "outputs": [
        {
          "output_type": "execute_result",
          "data": {
            "text/plain": [
              "                                  Model    MAE    MSE   RMSE     R2  Adj_R2\n",
              "Training set 1       Linear regression   0.343  0.272  0.522  0.841    0.84\n",
              "Test set     0       Linear regression   0.393  0.464  0.681  0.802    0.80\n",
              "             1  Decision tree regressor  0.063  0.017  0.131  0.990    0.99\n",
              "             2  Decision tree regressor  0.173  0.140  0.375  0.940    0.94"
            ],
            "text/html": [
              "\n",
              "  <div id=\"df-eb2b0c8c-da2e-439e-ae8d-392dd07b1996\">\n",
              "    <div class=\"colab-df-container\">\n",
              "      <div>\n",
              "<style scoped>\n",
              "    .dataframe tbody tr th:only-of-type {\n",
              "        vertical-align: middle;\n",
              "    }\n",
              "\n",
              "    .dataframe tbody tr th {\n",
              "        vertical-align: top;\n",
              "    }\n",
              "\n",
              "    .dataframe thead th {\n",
              "        text-align: right;\n",
              "    }\n",
              "</style>\n",
              "<table border=\"1\" class=\"dataframe\">\n",
              "  <thead>\n",
              "    <tr style=\"text-align: right;\">\n",
              "      <th></th>\n",
              "      <th></th>\n",
              "      <th>Model</th>\n",
              "      <th>MAE</th>\n",
              "      <th>MSE</th>\n",
              "      <th>RMSE</th>\n",
              "      <th>R2</th>\n",
              "      <th>Adj_R2</th>\n",
              "    </tr>\n",
              "  </thead>\n",
              "  <tbody>\n",
              "    <tr>\n",
              "      <th>Training set</th>\n",
              "      <th>1</th>\n",
              "      <td>Linear regression</td>\n",
              "      <td>0.343</td>\n",
              "      <td>0.272</td>\n",
              "      <td>0.522</td>\n",
              "      <td>0.841</td>\n",
              "      <td>0.84</td>\n",
              "    </tr>\n",
              "    <tr>\n",
              "      <th rowspan=\"3\" valign=\"top\">Test set</th>\n",
              "      <th>0</th>\n",
              "      <td>Linear regression</td>\n",
              "      <td>0.393</td>\n",
              "      <td>0.464</td>\n",
              "      <td>0.681</td>\n",
              "      <td>0.802</td>\n",
              "      <td>0.80</td>\n",
              "    </tr>\n",
              "    <tr>\n",
              "      <th>1</th>\n",
              "      <td>Decision tree regressor</td>\n",
              "      <td>0.063</td>\n",
              "      <td>0.017</td>\n",
              "      <td>0.131</td>\n",
              "      <td>0.990</td>\n",
              "      <td>0.99</td>\n",
              "    </tr>\n",
              "    <tr>\n",
              "      <th>2</th>\n",
              "      <td>Decision tree regressor</td>\n",
              "      <td>0.173</td>\n",
              "      <td>0.140</td>\n",
              "      <td>0.375</td>\n",
              "      <td>0.940</td>\n",
              "      <td>0.94</td>\n",
              "    </tr>\n",
              "  </tbody>\n",
              "</table>\n",
              "</div>\n",
              "      <button class=\"colab-df-convert\" onclick=\"convertToInteractive('df-eb2b0c8c-da2e-439e-ae8d-392dd07b1996')\"\n",
              "              title=\"Convert this dataframe to an interactive table.\"\n",
              "              style=\"display:none;\">\n",
              "        \n",
              "  <svg xmlns=\"http://www.w3.org/2000/svg\" height=\"24px\"viewBox=\"0 0 24 24\"\n",
              "       width=\"24px\">\n",
              "    <path d=\"M0 0h24v24H0V0z\" fill=\"none\"/>\n",
              "    <path d=\"M18.56 5.44l.94 2.06.94-2.06 2.06-.94-2.06-.94-.94-2.06-.94 2.06-2.06.94zm-11 1L8.5 8.5l.94-2.06 2.06-.94-2.06-.94L8.5 2.5l-.94 2.06-2.06.94zm10 10l.94 2.06.94-2.06 2.06-.94-2.06-.94-.94-2.06-.94 2.06-2.06.94z\"/><path d=\"M17.41 7.96l-1.37-1.37c-.4-.4-.92-.59-1.43-.59-.52 0-1.04.2-1.43.59L10.3 9.45l-7.72 7.72c-.78.78-.78 2.05 0 2.83L4 21.41c.39.39.9.59 1.41.59.51 0 1.02-.2 1.41-.59l7.78-7.78 2.81-2.81c.8-.78.8-2.07 0-2.86zM5.41 20L4 18.59l7.72-7.72 1.47 1.35L5.41 20z\"/>\n",
              "  </svg>\n",
              "      </button>\n",
              "      \n",
              "  <style>\n",
              "    .colab-df-container {\n",
              "      display:flex;\n",
              "      flex-wrap:wrap;\n",
              "      gap: 12px;\n",
              "    }\n",
              "\n",
              "    .colab-df-convert {\n",
              "      background-color: #E8F0FE;\n",
              "      border: none;\n",
              "      border-radius: 50%;\n",
              "      cursor: pointer;\n",
              "      display: none;\n",
              "      fill: #1967D2;\n",
              "      height: 32px;\n",
              "      padding: 0 0 0 0;\n",
              "      width: 32px;\n",
              "    }\n",
              "\n",
              "    .colab-df-convert:hover {\n",
              "      background-color: #E2EBFA;\n",
              "      box-shadow: 0px 1px 2px rgba(60, 64, 67, 0.3), 0px 1px 3px 1px rgba(60, 64, 67, 0.15);\n",
              "      fill: #174EA6;\n",
              "    }\n",
              "\n",
              "    [theme=dark] .colab-df-convert {\n",
              "      background-color: #3B4455;\n",
              "      fill: #D2E3FC;\n",
              "    }\n",
              "\n",
              "    [theme=dark] .colab-df-convert:hover {\n",
              "      background-color: #434B5C;\n",
              "      box-shadow: 0px 1px 3px 1px rgba(0, 0, 0, 0.15);\n",
              "      filter: drop-shadow(0px 1px 2px rgba(0, 0, 0, 0.3));\n",
              "      fill: #FFFFFF;\n",
              "    }\n",
              "  </style>\n",
              "\n",
              "      <script>\n",
              "        const buttonEl =\n",
              "          document.querySelector('#df-eb2b0c8c-da2e-439e-ae8d-392dd07b1996 button.colab-df-convert');\n",
              "        buttonEl.style.display =\n",
              "          google.colab.kernel.accessAllowed ? 'block' : 'none';\n",
              "\n",
              "        async function convertToInteractive(key) {\n",
              "          const element = document.querySelector('#df-eb2b0c8c-da2e-439e-ae8d-392dd07b1996');\n",
              "          const dataTable =\n",
              "            await google.colab.kernel.invokeFunction('convertToInteractive',\n",
              "                                                     [key], {});\n",
              "          if (!dataTable) return;\n",
              "\n",
              "          const docLinkHtml = 'Like what you see? Visit the ' +\n",
              "            '<a target=\"_blank\" href=https://colab.research.google.com/notebooks/data_table.ipynb>data table notebook</a>'\n",
              "            + ' to learn more about interactive tables.';\n",
              "          element.innerHTML = '';\n",
              "          dataTable['output_type'] = 'display_data';\n",
              "          await google.colab.output.renderOutput(dataTable, element);\n",
              "          const docLink = document.createElement('div');\n",
              "          docLink.innerHTML = docLinkHtml;\n",
              "          element.appendChild(docLink);\n",
              "        }\n",
              "      </script>\n",
              "    </div>\n",
              "  </div>\n",
              "  "
            ]
          },
          "metadata": {},
          "execution_count": 402
        }
      ],
      "source": [
        "# displaying the results of evaluation metric values for all models\n",
        "result=pd.concat([training_df,test_df],keys=['Training set','Test set'])\n",
        "result"
      ]
    }
  ],
  "metadata": {
    "colab": {
      "provenance": [],
      "mount_file_id": "1NXal44GjxP1KGRVSLrzoakDIEhtykHQO",
      "authorship_tag": "ABX9TyPEe3R+V/iNISUk07GrfBD6",
      "include_colab_link": true
    },
    "kernelspec": {
      "display_name": "Python 3",
      "name": "python3"
    },
    "language_info": {
      "name": "python"
    }
  },
  "nbformat": 4,
  "nbformat_minor": 0
}